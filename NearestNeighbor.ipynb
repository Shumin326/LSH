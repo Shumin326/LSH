{
  "nbformat": 4,
  "nbformat_minor": 0,
  "metadata": {
    "colab": {
      "name": "ESE545 Project1_turn_in.ipynb",
      "provenance": [],
      "collapsed_sections": [],
      "machine_shape": "hm"
    },
    "kernelspec": {
      "name": "python3",
      "display_name": "Python 3"
    }
  },
  "cells": [
    {
      "cell_type": "markdown",
      "metadata": {
        "id": "6wiC1_rWk6hs",
        "colab_type": "text"
      },
      "source": [
        "# Project 1, ESE545 data mining\n",
        "- Author: Shumin Yuan\n",
        "- Email: shumin@seas.upenn.edu\n"
      ]
    },
    {
      "cell_type": "code",
      "metadata": {
        "id": "TDAQbUAjBUss",
        "colab_type": "code",
        "colab": {}
      },
      "source": [
        "import pandas as pd\n",
        "import numpy as np\n",
        "import matplotlib.pyplot as plt\n",
        "from numpy import vectorize\n",
        "import string\n",
        "from string import punctuation\n",
        "from string import ascii_lowercase\n",
        "import math\n",
        "import timeit\n",
        "from problems import *\n",
        "# from scipy import sparse\n",
        "# from scipy.sparse import csr_matrix\n",
        "# from scipy.sparse import csc_matrix\n",
        "import matplotlib.pyplot as plt\n",
        "import csv"
      ],
      "execution_count": 0,
      "outputs": []
    },
    {
      "cell_type": "code",
      "metadata": {
        "id": "hHNwblWcahxa",
        "colab_type": "code",
        "colab": {}
      },
      "source": [
        "# source_root is the root to read 'amazonReviews.json'\n",
        "# out_root is the root to write the csv file\n",
        "source_root = \"enter source root here\"\n",
        "out_root = 'enter out root here'\n",
        "df_org = pd.read_json(root, lines=True)\n",
        "df_new, shingled_review_list, banded_mat  = find_pairs(df_org,out_root)\n",
        "print('Enter your review:') \n",
        "r = input()\n",
        "print(find_similar_reivew(r,df_org,df_new,shingled_review_list,banded_mat))"
      ],
      "execution_count": 0,
      "outputs": []
    }
  ]
}